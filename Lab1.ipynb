{
 "cells": [
  {
   "cell_type": "code",
   "execution_count": 29,
   "id": "66e21318-8227-4a1f-96bc-fccd1348fc45",
   "metadata": {},
   "outputs": [],
   "source": [
    "import random,statistics\n",
    "\n",
    "def generate_random_decimals(n, start, end):\n",
    "    return [random.uniform(start, end) for _ in range(n)]\n",
    "\n",
    "def mean(L1):\n",
    "    sum=0\n",
    "    for i in L1:\n",
    "        sum=sum+i\n",
    "    mean=sum/100\n",
    "    return mean\n",
    "\n",
    "def median(L1):\n",
    "    median=(L1[49]+L1[50])/2\n",
    "    return median\n",
    "\n",
    "def mode(L1):\n",
    "    mode=statistics.mode(L1)\n",
    "    return mode\n",
    "        \n",
    "\n",
    "def mul(A,B):\n",
    "    result = [[0, 0, 0, 0],\n",
    "        [0, 0, 0, 0],\n",
    "        [0, 0, 0, 0]]\n",
    "    if(len(A[0])!= len(B)):\n",
    "        return \"invalid\"\n",
    "    else:\n",
    "        for i in range(len(A)):\n",
    "            for j in range(len(B[0])):\n",
    "                for k in range(len(B)):\n",
    "                    result[i][j] += A[i][k] * B[k][j]\n",
    "\n",
    "        return result\n",
    "    \n",
    "def match(L1,L2):\n",
    "    result=[]\n",
    "    for i in L1:\n",
    "        for j in L2:\n",
    "            if i==j:\n",
    "                result.append(i)\n",
    "    return result\n",
    "\n",
    "def trans(A):\n",
    "    n = len(A)\n",
    "    for i in range(n):\n",
    "        for j in range(i + 1, n):\n",
    "            A[i][j], A[j][i] = A[j][i], A[i][j]\n",
    "                \n",
    "def count(String):\n",
    "    vowel=0\n",
    "    const=0\n",
    "    for i in String:\n",
    "        if (i=='a' or i=='e' or i=='o' or i=='u'):\n",
    "            vowel=vowel+1\n",
    "        elif i==\" \":\n",
    "            pass\n",
    "        else:\n",
    "            const=const+1\n",
    "    return const,vowel"
   ]
  },
  {
   "cell_type": "code",
   "execution_count": 30,
   "id": "fd7a7841-7d9d-4878-8a38-fdb3880c5a2b",
   "metadata": {},
   "outputs": [
    {
     "name": "stdout",
     "output_type": "stream",
     "text": [
      "7 3\n"
     ]
    }
   ],
   "source": [
    "String=\"hello world\"\n",
    "c,v=count(String)\n",
    "print(c,v)"
   ]
  },
  {
   "cell_type": "code",
   "execution_count": 28,
   "id": "892ed7a8-25d8-4854-983c-b5b4a05c2909",
   "metadata": {},
   "outputs": [
    {
     "name": "stdout",
     "output_type": "stream",
     "text": [
      "[[114, 160, 60, 27], [74, 97, 73, 14], [119, 157, 112, 23]]\n"
     ]
    }
   ],
   "source": [
    "A = [[12, 7, 3],\n",
    "    [4, 5, 6],\n",
    "    [7, 8, 9]]\n",
    "\n",
    "\n",
    "B = [[5, 8, 1, 2],\n",
    "    [6, 7, 3, 0],\n",
    "    [4, 5, 9, 1]]\n",
    "result=mul(A,B)\n",
    "print(result)"
   ]
  },
  {
   "cell_type": "code",
   "execution_count": 31,
   "id": "775905a1-fe27-4192-ba7e-723d7ec0b48c",
   "metadata": {},
   "outputs": [
    {
     "name": "stdout",
     "output_type": "stream",
     "text": [
      "[1, 3]\n"
     ]
    }
   ],
   "source": [
    "\n",
    "L1=[1,2,3,4,5]\n",
    "L2=[1,8,3,7,9]\n",
    "r=match(L1,L2)\n",
    "print(r)\n",
    "        "
   ]
  },
  {
   "cell_type": "code",
   "execution_count": 32,
   "id": "82c4cb25-e705-45d0-a0c5-47ecb093e18a",
   "metadata": {},
   "outputs": [
    {
     "name": "stdout",
     "output_type": "stream",
     "text": [
      "[[1, 5, 9, 13], [2, 6, 10, 14], [3, 7, 11, 15], [4, 8, 12, 16]]\n"
     ]
    }
   ],
   "source": [
    "\n",
    "A = [[1, 2, 3, 4],\n",
    "    [5, 6, 7, 8],\n",
    "    [9, 10, 11, 12],\n",
    "    [13, 14, 15, 16]]\n",
    "\n",
    "trans(A)\n",
    "print(A)"
   ]
  },
  {
   "cell_type": "code",
   "execution_count": 33,
   "id": "05900a01-ad42-426c-b12a-e9cf16a766ba",
   "metadata": {},
   "outputs": [
    {
     "name": "stdout",
     "output_type": "stream",
     "text": [
      "mean: 125.70916405182234\n",
      "median: 111.81945826621053\n",
      "mode: 146.70666843287128\n"
     ]
    }
   ],
   "source": [
    "\n",
    "L1=generate_random_decimals(100, 100.0, 150.0)\n",
    "print(\"mean:\",mean(L1))\n",
    "print(\"median:\",median(L1))\n",
    "print(\"mode:\",mode(L1))"
   ]
  },
  {
   "cell_type": "code",
   "execution_count": null,
   "id": "79c414ba-a8ba-49d3-8b8b-978e538582ae",
   "metadata": {},
   "outputs": [],
   "source": []
  }
 ],
 "metadata": {
  "kernelspec": {
   "display_name": "Python [conda env:notebook]",
   "language": "python",
   "name": "conda-env-notebook-py"
  },
  "language_info": {
   "codemirror_mode": {
    "name": "ipython",
    "version": 3
   },
   "file_extension": ".py",
   "mimetype": "text/x-python",
   "name": "python",
   "nbconvert_exporter": "python",
   "pygments_lexer": "ipython3",
   "version": "3.12.11"
  }
 },
 "nbformat": 4,
 "nbformat_minor": 5
}
